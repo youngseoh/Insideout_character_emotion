{
 "cells": [
  {
   "cell_type": "code",
   "execution_count": null,
   "metadata": {},
   "outputs": [],
   "source": [
    "import cv2\n",
    "from pathlib import Path\n",
    "\n",
    "\n",
    "def crop_to_mask(image_path, output_path):\n",
    "    # 이미지 로드\n",
    "    image = cv2.imread(str(image_path))\n",
    "    if image is None:\n",
    "        print(f\"Failed to load image: {image_path}\")\n",
    "        return\n",
    "\n",
    "    # 검은색 배경을 기준으로 마스크 생성\n",
    "    gray = cv2.cvtColor(image, cv2.COLOR_BGR2GRAY)\n",
    "    _, thresh = cv2.threshold(gray, 1, 255, cv2.THRESH_BINARY)\n",
    "\n",
    "    # 마스크에서 경계 찾기\n",
    "    contours, _ = cv2.findContours(thresh, cv2.RETR_EXTERNAL, cv2.CHAIN_APPROX_SIMPLE)\n",
    "    if not contours:\n",
    "        print(f\"No contours found in image: {image_path}\")\n",
    "        return\n",
    "\n",
    "    # 가장 큰 경계에 해당하는 영역을 찾아 크롭\n",
    "    c = max(contours, key=cv2.contourArea)\n",
    "    x, y, w, h = cv2.boundingRect(c)\n",
    "    cropped = image[y : y + h, x : x + w]\n",
    "\n",
    "    # 크롭된 이미지 저장\n",
    "    cv2.imwrite(str(output_path), cropped)\n",
    "\n",
    "\n",
    "# 입력 및 출력 디렉토리 설정\n",
    "input_dir = Path(\n",
    "    \"/content/drive/MyDrive/비타민-2024-2-CV/Before_Crop_Images\"\n",
    ")\n",
    "output_dir = Path(\n",
    "    \"/content/drive/MyDrive/비타민-2024-2-CV/After_Crop_Images\"\n",
    ")\n",
    "\n",
    "# 입력 디렉토리의 모든 이미지에 대해 반복\n",
    "for category in [\"test\", \"train\", \"valid\"]:\n",
    "    for emotion in [\"Angry\", \"Happy\", \"Neutral\", \"Sad\", \"Surprised\"]:\n",
    "        current_dir = input_dir / category / emotion\n",
    "        output_current_dir = output_dir / category / emotion\n",
    "        output_current_dir.mkdir(parents=True, exist_ok=True)  # 출력 디렉토리 생성\n",
    "\n",
    "        for image_path in current_dir.glob(\"*.jpg\"):\n",
    "            output_image_path = output_current_dir / image_path.name\n",
    "            crop_to_mask(image_path, output_image_path)"
   ]
  }
 ],
 "metadata": {
  "language_info": {
   "name": "python"
  }
 },
 "nbformat": 4,
 "nbformat_minor": 2
}
